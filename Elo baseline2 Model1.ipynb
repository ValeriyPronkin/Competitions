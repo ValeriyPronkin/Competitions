{
  "cells": [
    {
      "metadata": {
        "_uuid": "8f2839f25d086af736a60e9eeb907d3b93b6e0e5",
        "_cell_guid": "b1076dfc-b9ad-4769-8c92-a6c4dae69d19",
        "trusted": true
      },
      "cell_type": "code",
      "source": "import os\nprint(os.listdir(\"../input\"))",
      "execution_count": null,
      "outputs": []
    },
    {
      "metadata": {
        "_cell_guid": "79c7e3d0-c299-4dcb-8224-4455121ee9b0",
        "_uuid": "d629ff2d2480ee46fbb7e2d37f6b5fab8052498a",
        "trusted": true
      },
      "cell_type": "code",
      "source": "import gc\nimport logging #библиотека для удобного ведения логов в Python\nimport datetime\nimport warnings\nimport numpy as np\nimport pandas as pd\nimport seaborn as sns\nimport lightgbm as lgb\nimport xgboost as xgb\nimport catboost as cb\nfrom sklearn.ensemble import AdaBoostRegressor\nimport matplotlib.pyplot as plt\nfrom sklearn.metrics import mean_squared_error\nfrom sklearn.model_selection import StratifiedKFold\nfrom sklearn.tree import DecisionTreeRegressor\nfrom sklearn.model_selection import StratifiedKFold, cross_val_score, KFold, GridSearchCV\nfrom sklearn.preprocessing import StandardScaler\nfrom keras.callbacks import EarlyStopping, ModelCheckpoint #Ранняя остановка, КПП\nfrom keras import Sequential\nfrom keras.layers import Input, Dense, Dropout, BatchNormalization\n\n\n#settings\nwarnings.filterwarnings('ignore')\nnp.random.seed(2018) #делает непредсказуемые случайные числа",
      "execution_count": null,
      "outputs": []
    },
    {
      "metadata": {
        "trusted": true,
        "_uuid": "fc4621660a947655aa695d23bfb75455631bb149"
      },
      "cell_type": "code",
      "source": "test_df = pd.read_csv('../input/test_ds1.csv')\ntrain_df = pd.read_csv('../input/train_ds1.csv')",
      "execution_count": null,
      "outputs": []
    },
    {
      "metadata": {
        "_uuid": "20c59d5c45db09778a7b91081cee9c2cfa389132"
      },
      "cell_type": "markdown",
      "source": "Dealing with outliers Работа с выбросами"
    },
    {
      "metadata": {
        "trusted": true,
        "_uuid": "9d3842f2101ffbfacba4db1568c9280e522a2ed7"
      },
      "cell_type": "code",
      "source": "train_df['CLV']=train_df.hist_purchase_date_diff*train_df.hist_purchase_amount_mean*train_df.hist_card_id_count\ntrain_df['CLV1']=train_df.hist_purchase_date_diff*train_df.purchase_amount_total*train_df.hist_card_id_count\ntest_df['CLV']=test_df.hist_purchase_date_diff*test_df.hist_purchase_amount_mean*test_df.hist_card_id_count\ntest_df['CLV1']=test_df.hist_purchase_date_diff*test_df.purchase_amount_total*test_df.hist_card_id_count\n",
      "execution_count": null,
      "outputs": []
    },
    {
      "metadata": {
        "trusted": true,
        "_uuid": "693aab3a91e81514e03f0209f90d49036476be32"
      },
      "cell_type": "markdown",
      "source": "# Scaling\nfeatures = [c for c in train_df.columns if c not in ['card_id', 'first_active_month', 'target', 'outliers']]\nscaler = StandardScaler()\ntrain_df[features] = scaler.fit_transform(train_df[features])\ntest_df[features] = scaler.transform(test_df[features])"
    },
    {
      "metadata": {
        "trusted": true,
        "_uuid": "3b3cb164206bf7205815e8d64d41a54a15fe970d"
      },
      "cell_type": "code",
      "source": "train_columns = [c for c in train_df.columns if c not in ['card_id', 'first_active_month','target','outliers']]\n#train_columns = [c for c in train_df.columns if c not in ['target','outliers']]\ntarget = train_df['target']\ndel train_df['target']",
      "execution_count": null,
      "outputs": []
    },
    {
      "metadata": {
        "trusted": true,
        "_uuid": "61c2574ee42b5500ef8973a94906c993eef2798a"
      },
      "cell_type": "code",
      "source": "train_df['outliers'].sum()",
      "execution_count": null,
      "outputs": []
    },
    {
      "metadata": {
        "trusted": true,
        "_uuid": "5489c7a60fa3f67fdaabf806d1d6d54e21b3f34d"
      },
      "cell_type": "code",
      "source": "#logger\ndef get_logger():\n    FORMAT = '[%(levelname)s]%(asctime)s:%(name)s:%(message)s'\n    logging.basicConfig(format=FORMAT) #в настройки логера передать уровень выводимых ошибок\n    logger = logging.getLogger('main')\n    logger.setLevel(logging.DEBUG) # Сообщение отладочное\n    return logger",
      "execution_count": null,
      "outputs": []
    },
    {
      "metadata": {
        "trusted": true,
        "_uuid": "e82a9f1cfa715cdfcf5e9551cd1c611357382f94"
      },
      "cell_type": "code",
      "source": "logger = get_logger()\nDEBUG = False",
      "execution_count": null,
      "outputs": []
    },
    {
      "metadata": {
        "trusted": true,
        "_uuid": "98433d4d07d01fd664d2230636bfa2384c5f6836"
      },
      "cell_type": "markdown",
      "source": "params = {} \nparams ['learning_rate'] = 0,003 \nparams ['boosting_type'] = 'gbdt' \nparams [ 'target' ] = 'binary' \nparams ['metric'] = 'binary_logloss' \nparams ['sub_feature'] = 0.5 \nparams ['num_leaves'] = 10 \nparams ['min_data'] = 50 \nparams ['max_depth'] = 10\nclf = lgb.train (params, d_train, 100)"
    },
    {
      "metadata": {
        "trusted": true,
        "_uuid": "5f49f92fe959767931ced5489908e3886d4e0439"
      },
      "cell_type": "code",
      "source": "if DEBUG == True:\n    ITERATIONS = 1\nelse:\n    ITERATIONS = 4000\nlgb1 = lgb.LGBMRegressor(num_leaves=111,\n                        max_depth=9,\n                        learning_rate=0.005,\n                        n_estimators=ITERATIONS,\n                        min_child_samples=149,\n                        subsample=0.71,\n                        subsample_freq=1,\n                        feature_fraction=0.75,\n                        reg_lambda=0.26,\n                        random_state=1,\n                        n_jobs=4,\n                        metrics='rmse')\n\nlgb2 = lgb.LGBMRegressor(num_leaves=200,\n                        max_depth=9,\n                        learning_rate=0.01,\n                        n_estimators=ITERATIONS,\n                        min_child_samples=40,\n                        subsample=0.9,\n                        subsample_freq=2,\n                        feature_fraction=0.8,\n                        reg_lambda=0.13,\n                        random_state=2,\n                        n_jobs=4,\n                        metrics='rmse')\n\nxgb1 = xgb.XGBRegressor(max_depth=9,\n                       learning_rate=0.005,\n                       n_estimators=ITERATIONS,\n                       colsample_bytree=0.75,\n                       sub_sample=0.75,\n                       reg_lambda=0.15,\n                       n_jobs=4,\n                       random_state=3)\n\ncb1 = cb.CatBoostRegressor(iterations=ITERATIONS, learning_rate=0.007, \n                           loss_function='RMSE', bootstrap_type='Bernoulli', \n                           depth=9, rsm=0.75, subsample=0.75, random_seed=4, reg_lambda=3)\n\nada1 = AdaBoostRegressor(base_estimator=DecisionTreeRegressor(max_depth=8), \n                         n_estimators=ITERATIONS, learning_rate=0.007, \n                         loss='square', random_state=2019)",
      "execution_count": null,
      "outputs": []
    },
    {
      "metadata": {
        "trusted": true,
        "_uuid": "adf668fe36e8663905d27b4ca4649f4f79f02ca0"
      },
      "cell_type": "code",
      "source": "if DEBUG==True:\n    N_FOLDS=2\nelse:\n    N_FOLDS=5\nlayer1_models = [lgb1, lgb2, xgb1, cb1, ada1]\nlayer1_names = ['lightgbm1', 'lightgbm2', 'xgboost1', 'catboost1', 'adaboost1']",
      "execution_count": null,
      "outputs": []
    },
    {
      "metadata": {
        "trusted": true,
        "_uuid": "eec6e770e4924409e637b75a79ef9de5003da177"
      },
      "cell_type": "code",
      "source": "#model\n##model params\nlogger.info('Prepare model')\nparam = {'num_leaves': 20, #41,\n         'min_data_in_leaf': 100,#30, \n         'objective':'regression',\n         'max_depth': 20,#-1,\n         'learning_rate': 0.008,\n         \"min_child_samples\": 20,\n         \"boosting\": \"gbdt\",\n         \"feature_fraction\": 0.9,\n         \"bagging_freq\": 1,\n         \"bagging_fraction\": 0.9 ,\n         \"bagging_seed\": 11,\n         \"metric\": 'rmse',\n         \"lambda_l1\": 0.1,\n         \"verbosity\": -1,\n         \"nthread\": 4,\n         \"categorical_feature\": 1,\n         \"random_state\": 2019}",
      "execution_count": null,
      "outputs": []
    },
    {
      "metadata": {
        "trusted": true,
        "_uuid": "63febd256cefb7c47c6296d4eabb4a265698cf10"
      },
      "cell_type": "code",
      "source": "#prepare fit model with cross-validation\nfolds = StratifiedKFold(n_splits=7, shuffle=True, random_state=2019)\noof = np.zeros(len(train_df))\npredictions = np.zeros(len(test_df))\nfeature_importance_df = pd.DataFrame()",
      "execution_count": null,
      "outputs": []
    },
    {
      "metadata": {
        "trusted": true,
        "_uuid": "0560443fa21768c89c20abbe02d66de72f065ff0"
      },
      "cell_type": "code",
      "source": "folds = KFold(n_splits=7, shuffle=True, random_state=2019)",
      "execution_count": null,
      "outputs": []
    },
    {
      "metadata": {
        "trusted": true,
        "_uuid": "0f5f348c75986c9d0e794a080598a91492135943"
      },
      "cell_type": "code",
      "source": "#run model\nlogger.info('Start running model')\nfor fold_, (trn_idx, val_idx) in enumerate(folds.split(train_df,train_df['outliers'].values)):\n    strLog = \"fold {}\".format(fold_)\n    print(strLog)\n    trn_data = lgb.Dataset(train_df.iloc[trn_idx][train_columns], label=target.iloc[trn_idx])#, categorical_feature=categorical_feats)\n    val_data = lgb.Dataset(train_df.iloc[val_idx][train_columns], label=target.iloc[val_idx])#, categorical_feature=categorical_feats)\n\n    num_round = 10000\n    clf = lgb.train(param, trn_data, num_round, valid_sets = [trn_data, val_data], verbose_eval=100, early_stopping_rounds = 100)\n    oof[val_idx] = clf.predict(train_df.iloc[val_idx][train_columns], num_iteration=clf.best_iteration)\n    #feature importance\n    fold_importance_df = pd.DataFrame()\n    fold_importance_df[\"Feature\"] = train_columns\n    fold_importance_df[\"importance\"] = clf.feature_importance()\n    fold_importance_df[\"fold\"] = fold_ + 1\n    feature_importance_df = pd.concat([feature_importance_df, fold_importance_df], axis=0)\n    print ('shape-', feature_importance_df.shape)\n    #predictionstarget\n    predictions += clf.predict(test_df[train_columns], num_iteration=clf.best_iteration) / folds.n_splits\n    logger.info(strLog)\n    \nnp.sqrt(mean_squared_error(oof, target))",
      "execution_count": null,
      "outputs": []
    },
    {
      "metadata": {
        "trusted": true,
        "_uuid": "5c1394a01c5e33403ecbf2dd3a53b93e5426a67d"
      },
      "cell_type": "code",
      "source": "#3.6601119214463607\n#3.6609737986076882\n#3.658594491669437\n#3.6590197344766464",
      "execution_count": null,
      "outputs": []
    },
    {
      "metadata": {
        "trusted": true,
        "_uuid": "a7d19efd33c6fde5e35867d8b002938f176504aa"
      },
      "cell_type": "code",
      "source": "##plot the feature importance\nlogger.info(\"Feature importance plot\")\ncols = (feature_importance_df[[\"Feature\", \"importance\"]]\n        .groupby(\"Feature\")\n        .mean()\n        .sort_values(by=\"importance\", ascending=False)[:1000].index)\nbest_features = feature_importance_df.loc[feature_importance_df.Feature.isin(cols)]\n\nplt.figure(figsize=(14,26))\nsns.barplot(x=\"importance\", y=\"Feature\", data=best_features.sort_values(by=\"importance\",ascending=False))\nplt.title('LightGBM Features (averaged over folds)')\nplt.tight_layout()\nplt.savefig('lgbm_importances.png')",
      "execution_count": null,
      "outputs": []
    },
    {
      "metadata": {
        "_uuid": "c1b727f97cfe41fa3bc3f1511280d4590f7f1bc2"
      },
      "cell_type": "markdown",
      "source": "Neural network"
    },
    {
      "metadata": {
        "trusted": true,
        "_uuid": "73131ad19f3d1c009fbc06f63181e29fe667793a"
      },
      "cell_type": "code",
      "source": "features = [c for c in train_df.columns if c not in ['card_id', 'first_active_month', 'target', 'outliers']]",
      "execution_count": null,
      "outputs": []
    },
    {
      "metadata": {
        "trusted": true,
        "_uuid": "2f746e7356f1c116518740037f7da08d1f1482ea"
      },
      "cell_type": "code",
      "source": "target.head()",
      "execution_count": null,
      "outputs": []
    },
    {
      "metadata": {
        "trusted": true,
        "_uuid": "70c8247b74f5f25d2e73735b32d38d140a848e2b"
      },
      "cell_type": "code",
      "source": "# Preparation\noof_train_nn = np.zeros(shape=(len(train_df),1))\noof_test_nn = np.zeros(shape=(len(test_df),1))\nscaler = StandardScaler()\nscaler.fit(train_df[features])\nX_train = scaler.transform(train_df.iloc[:][features].values)\nX_test = scaler.transform(test_df.iloc[:][features].values)\n\nX_train = pd.DataFrame(X_train, index=train_df[features].index, columns=train_df[features].columns)\nX_test = pd.DataFrame(X_test, index=test_df[features].index, columns=test_df[features].columns)\n",
      "execution_count": null,
      "outputs": []
    },
    {
      "metadata": {
        "trusted": true,
        "_uuid": "b5ad1380366be536fc3983ee38c15c537e06ca8c"
      },
      "cell_type": "code",
      "source": "if DEBUG == True:\n    EPOCHS=1\nelse:\n    EPOCHS=30 ",
      "execution_count": null,
      "outputs": []
    },
    {
      "metadata": {
        "trusted": true,
        "_uuid": "fd5b7bf2d08b7c56d3925dc3e21fe687805f3465"
      },
      "cell_type": "code",
      "source": "def nn_model(input_shape):\n    model = Sequential()\n    model.add(Dense(128, input_dim = input_shape, activation='relu'))\n    model.add(Dropout(0.25))\n    model.add(Dense(128, activation='relu'))\n    model.add(BatchNormalization())\n    model.add(Dropout(0.2))\n    model.add(Dense(1))\n    model.compile(loss='mean_squared_error', optimizer='adam')\n    return model\n\nearly_stop = EarlyStopping(patience=5, verbose=True)\n",
      "execution_count": null,
      "outputs": []
    },
    {
      "metadata": {
        "trusted": true,
        "_uuid": "a9130f1477607d232d0782eefbaf1bbf267d3a0e"
      },
      "cell_type": "code",
      "source": "train_df.shape, target.shape",
      "execution_count": null,
      "outputs": []
    },
    {
      "metadata": {
        "trusted": true,
        "_uuid": "69031ab688fc00dc3052caf0c8d012e004a575c5"
      },
      "cell_type": "code",
      "source": "i = 0\nfor fold_, (trn_idx, val_idx) in enumerate(folds.split(train_df.values, target.values)):\n    print (i)\n    i += 1",
      "execution_count": null,
      "outputs": []
    },
    {
      "metadata": {
        "trusted": true,
        "_uuid": "1f40aeae95e757697f567ce16b5041df9ea6f6b4"
      },
      "cell_type": "code",
      "source": "for fold_, (trn_idx, val_idx) in enumerate(folds.split(train_df.values, target.values)):\nfor fold_, (trn_idx, val_idx) in enumerate(folds.split(train_df,train_df['outliers'].values)):\n      \n    print('Fold no %i/%i'%(fold_+1,N_FOLDS))\n    trn_data = X_train.iloc[trn_idx][features]\n    trn_label = target.iloc[trn_idx]\n    val_data = X_train.iloc[val_idx][features]\n    val_label = target.iloc[val_idx]\n    model = nn_model(trn_data.shape[1])\n    hist = model.fit(trn_data,trn_label,\n                     validation_data = (val_data, val_label),\n                     epochs=EPOCHS, \n                     batch_size=512, \n                     verbose=True, \n                     callbacks=[early_stop])\n    oof_train_nn[val_idx,0] = model.predict(val_data)[:,0]\n    oof_test_nn[:,0] += model.predict(X_test[features])[:,0]/N_FOLDS",
      "execution_count": null,
      "outputs": []
    },
    {
      "metadata": {
        "trusted": true,
        "_uuid": "3187e6fc09c3dc9abca185ed538b332a64f27f66"
      },
      "cell_type": "code",
      "source": "score_nn = mean_squared_error(oof_train_nn, target)**0.5\nprint('Training CV score for neural network: %.5f' %score)\nlayer1_names.append('neural_net')\nlayer1_score.append(score_nn)\n\noof_train = np.hstack((oof_train, oof_train_nn))\noof_test = np.hstack((oof_test, oof_test_nn))",
      "execution_count": null,
      "outputs": []
    },
    {
      "metadata": {
        "trusted": true,
        "_uuid": "5fb2a1d50f5818cd040ffc099b46c2c9d4629a5b"
      },
      "cell_type": "code",
      "source": "# Print first layer result\nlayer1 = pd.DataFrame()\nlayer1['models'] = layer1_names\nlayer1['CV_score'] = layer1_score\nlayer1\n",
      "execution_count": null,
      "outputs": []
    },
    {
      "metadata": {
        "trusted": true,
        "_uuid": "5eee82900d39270b0deaf773d039c9801af1088c"
      },
      "cell_type": "code",
      "source": "##submission\nlogger.info(\"Prepare submission\")\nsub_df = pd.DataFrame({\"card_id\":test_df[\"card_id\"].values})\nsub_df[\"target\"] = predictions\nsub_df.to_csv(\"submission.csv\", index=False)",
      "execution_count": null,
      "outputs": []
    },
    {
      "metadata": {
        "trusted": true,
        "_uuid": "0942025692828b26dcf21e825cf81282722b6810"
      },
      "cell_type": "code",
      "source": "!ls",
      "execution_count": null,
      "outputs": []
    },
    {
      "metadata": {
        "trusted": true,
        "_uuid": "7bd52690e2e03a026554c5e266529a8d6742665d"
      },
      "cell_type": "code",
      "source": "sub_df.shape#head()",
      "execution_count": null,
      "outputs": []
    },
    {
      "metadata": {
        "trusted": true,
        "_uuid": "37f9074d6afd42bdae8685d6d784b643feec781f"
      },
      "cell_type": "code",
      "source": "",
      "execution_count": null,
      "outputs": []
    }
  ],
  "metadata": {
    "kernelspec": {
      "display_name": "Python 3",
      "language": "python",
      "name": "python3"
    },
    "language_info": {
      "name": "python",
      "version": "3.6.6",
      "mimetype": "text/x-python",
      "codemirror_mode": {
        "name": "ipython",
        "version": 3
      },
      "pygments_lexer": "ipython3",
      "nbconvert_exporter": "python",
      "file_extension": ".py"
    }
  },
  "nbformat": 4,
  "nbformat_minor": 1
}