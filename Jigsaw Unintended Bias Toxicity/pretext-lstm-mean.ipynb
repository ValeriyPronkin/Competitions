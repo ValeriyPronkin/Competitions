{
 "cells": [
  {
   "cell_type": "code",
   "execution_count": 1,
   "metadata": {},
   "outputs": [],
   "source": [
    "import numpy as np # linear algebra\n",
    "import pandas as pd # data processing, CSV file I/O (e.g. pd.read_csv)\n"
   ]
  },
  {
   "cell_type": "code",
   "execution_count": 2,
   "metadata": {},
   "outputs": [],
   "source": [
    "predict_1 = pd.read_csv('../input/pretext/submission_6.csv')\n",
    "predict_2 = pd.read_csv('../input/pretext/submission_7.csv')\n",
    "#predict_3 = pd.read_csv('../input/pretext/submission_8.csv')\n",
    "#predict_4 = pd.read_csv('../input/pretext/submission_9.csv')\n",
    "#predict_5 = pd.read_csv('../input/pretext/submission_5.csv')"
   ]
  },
  {
   "cell_type": "code",
   "execution_count": 3,
   "metadata": {},
   "outputs": [],
   "source": [
    "submission=predict_1\n",
    "submission.prediction=np.mean([predict_1.prediction, predict_2.prediction], axis=0)\n",
    "submission.to_csv('submission.csv', index=False)"
   ]
  }
 ],
 "metadata": {
  "kernelspec": {
   "display_name": "Python 3",
   "language": "python",
   "name": "python3"
  },
  "language_info": {
   "codemirror_mode": {
    "name": "ipython",
    "version": 3
   },
   "file_extension": ".py",
   "mimetype": "text/x-python",
   "name": "python",
   "nbconvert_exporter": "python",
   "pygments_lexer": "ipython3",
   "version": "3.6.5"
  }
 },
 "nbformat": 4,
 "nbformat_minor": 1
}
